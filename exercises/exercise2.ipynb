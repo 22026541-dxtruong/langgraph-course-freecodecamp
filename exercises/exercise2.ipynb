{
 "cells": [
  {
   "cell_type": "code",
   "execution_count": 6,
   "id": "31a18a9f",
   "metadata": {},
   "outputs": [],
   "source": [
    "from typing import TypedDict, List\n",
    "from langgraph.graph import StateGraph\n",
    "import math"
   ]
  },
  {
   "cell_type": "code",
   "execution_count": 7,
   "id": "d37ba9fb",
   "metadata": {},
   "outputs": [],
   "source": [
    "class AgentState(TypedDict):\n",
    "    name: str \n",
    "    values: List[int]\n",
    "    operation: str\n",
    "    result: str"
   ]
  },
  {
   "cell_type": "code",
   "execution_count": 8,
   "id": "daced896",
   "metadata": {},
   "outputs": [],
   "source": [
    "def process_values(state: AgentState) -> AgentState:\n",
    "    if state[\"operation\"] == \"+\":\n",
    "        state[\"result\"] = f\"Hi {state['name']}, your answer is: {sum(state['values'])}\"\n",
    "    elif state[\"operation\"] == \"*\":\n",
    "        state[\"result\"] = f\"Hi {state['name']}, your answer is: {math.prod(state['values'])}\"\n",
    "    else:\n",
    "        state[\"result\"] = \"Invalid!\"\n",
    "\n",
    "    return state"
   ]
  },
  {
   "cell_type": "code",
   "execution_count": 9,
   "id": "b02e0be9",
   "metadata": {},
   "outputs": [],
   "source": [
    "graph = StateGraph(AgentState)\n",
    "\n",
    "graph.add_node(\"process_values\", process_values)\n",
    "graph.set_entry_point(\"process_values\")\n",
    "graph.set_finish_point(\"process_values\")\n",
    "\n",
    "app = graph.compile()"
   ]
  },
  {
   "cell_type": "code",
   "execution_count": 10,
   "id": "d9af55b8",
   "metadata": {},
   "outputs": [],
   "source": [
    "answer = app.invoke({\"name\": \"Jack Sparrow\",\"values\": [1,2,3,4] , \"operation\": \"*\"})"
   ]
  },
  {
   "cell_type": "code",
   "execution_count": 11,
   "id": "63081cea",
   "metadata": {},
   "outputs": [
    {
     "data": {
      "text/plain": [
       "{'name': 'Jack Sparrow',\n",
       " 'values': [1, 2, 3, 4],\n",
       " 'operation': '*',\n",
       " 'result': 'Hi Jack Sparrow, your answer is: 24'}"
      ]
     },
     "execution_count": 11,
     "metadata": {},
     "output_type": "execute_result"
    }
   ],
   "source": [
    "answer"
   ]
  }
 ],
 "metadata": {
  "kernelspec": {
   "display_name": ".venv",
   "language": "python",
   "name": "python3"
  },
  "language_info": {
   "codemirror_mode": {
    "name": "ipython",
    "version": 3
   },
   "file_extension": ".py",
   "mimetype": "text/x-python",
   "name": "python",
   "nbconvert_exporter": "python",
   "pygments_lexer": "ipython3",
   "version": "3.13.0"
  }
 },
 "nbformat": 4,
 "nbformat_minor": 5
}
