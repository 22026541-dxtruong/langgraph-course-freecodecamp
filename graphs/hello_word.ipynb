{
 "cells": [
  {
   "cell_type": "markdown",
   "id": "cffb6510",
   "metadata": {},
   "source": [
    "# Hello World"
   ]
  },
  {
   "cell_type": "code",
   "execution_count": null,
   "id": "c75977d4",
   "metadata": {},
   "outputs": [],
   "source": [
    "import type from TypeDict"
   ]
  }
 ],
 "metadata": {
  "kernelspec": {
   "display_name": ".venv",
   "language": "python",
   "name": "python3"
  },
  "language_info": {
   "name": "python",
   "version": "3.12.7"
  }
 },
 "nbformat": 4,
 "nbformat_minor": 5
}
