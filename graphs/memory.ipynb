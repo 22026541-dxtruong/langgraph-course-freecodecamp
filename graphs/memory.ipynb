{
 "cells": [
  {
   "cell_type": "markdown",
   "id": "ec703903",
   "metadata": {},
   "source": [
    "### Session"
   ]
  },
  {
   "cell_type": "code",
   "execution_count": 1,
   "id": "f5728afd",
   "metadata": {},
   "outputs": [
    {
     "name": "stdout",
     "output_type": "stream",
     "text": [
      "Amount of input messages: 1\n",
      "History length: 2\n",
      "Amount of input messages: 1\n",
      "History length: 4\n"
     ]
    }
   ],
   "source": [
    "from langchain_core.chat_history import InMemoryChatMessageHistory\n",
    "from langchain_core.runnables.history import RunnableWithMessageHistory\n",
    "from langchain_core.language_models import FakeListChatModel\n",
    "from langchain.callbacks.base import BaseCallbackHandler\n",
    "from langchain_core.messages import trim_messages, HumanMessage\n",
    "\n",
    "\n",
    "class PrintOutputCallback(BaseCallbackHandler):\n",
    "    def on_chat_model_start(self, serialized, messages, **kwargs):\n",
    "        print(f\"Amount of input messages: {len(messages)}\")\n",
    "\n",
    "\n",
    "sessions = {}\n",
    "handler = PrintOutputCallback()\n",
    "llm = FakeListChatModel(responses=[\"ai1\", \"ai2\", \"ai3\"])\n",
    "\n",
    "def get_session_history(session_id: str):\n",
    "    if session_id not in sessions:\n",
    "        sessions[session_id] = InMemoryChatMessageHistory()\n",
    "    return sessions[session_id]\n",
    "\n",
    "trimmer = trim_messages(\n",
    "    max_tokens=1,\n",
    "    strategy=\"last\",\n",
    "    token_counter=len,\n",
    "    include_system=True,\n",
    "    start_on=\"human\",\n",
    ")\n",
    "\n",
    "raw_chain = trimmer | llm\n",
    "chain = RunnableWithMessageHistory(raw_chain, get_session_history)\n",
    "\n",
    "config = {\"callbacks\": [PrintOutputCallback()], \"configurable\": {\"session_id\": \"1\"}}\n",
    "_ = chain.invoke(\n",
    "    [HumanMessage(\"Hi!\")],\n",
    "    config=config,\n",
    ")\n",
    "print(f\"History length: {len(sessions['1'].messages)}\")\n",
    "\n",
    "_ = chain.invoke(\n",
    "    [HumanMessage(\"How are you?\")],\n",
    "    config=config,\n",
    ")\n",
    "print(f\"History length: {len(sessions['1'].messages)}\")"
   ]
  },
  {
   "cell_type": "markdown",
   "id": "d584c97a",
   "metadata": {},
   "source": [
    "### Checkpoint"
   ]
  },
  {
   "cell_type": "code",
   "execution_count": 2,
   "id": "d339c09a",
   "metadata": {},
   "outputs": [
    {
     "name": "stdout",
     "output_type": "stream",
     "text": [
      "History length = 0\n",
      "History length = 0\n",
      "History length = 2\n"
     ]
    }
   ],
   "source": [
    "from langgraph.graph import MessageGraph\n",
    "from langgraph.checkpoint.memory import MemorySaver\n",
    "from langchain_core.messages import AIMessage\n",
    "from langgraph.graph import START, END\n",
    "\n",
    "\n",
    "def test_node(state):\n",
    "   # ignore the last message since it's an input one\n",
    "   print(f\"History length = {len(state[:-1])}\")\n",
    "   return [AIMessage(content=\"Hello!\")]\n",
    "\n",
    "builder = MessageGraph()\n",
    "builder.add_node(\"test_node\", test_node)\n",
    "builder.add_edge(START, \"test_node\")\n",
    "builder.add_edge(\"test_node\", END)\n",
    "\n",
    "memory = MemorySaver()\n",
    "graph = builder.compile(checkpointer=memory)\n",
    "\n",
    "_ = graph.invoke([HumanMessage(content=\"test\")], config={\"configurable\": {\"thread_id\": \"thread-a\"}})\n",
    "_ = graph.invoke([HumanMessage(content=\"test\")], config={\"configurable\": {\"thread_id\": \"thread-b\"}})\n",
    "_ = graph.invoke([HumanMessage(content=\"test\")], config={\"configurable\": {\"thread_id\": \"thread-a\"}})"
   ]
  },
  {
   "cell_type": "code",
   "execution_count": 3,
   "id": "4cc1f0e2",
   "metadata": {},
   "outputs": [
    {
     "name": "stdout",
     "output_type": "stream",
     "text": [
      "1f078cde-5c4a-6f14-8004-88c63f1b3cb5\n",
      "1f078cde-5c46-64f1-8003-2f44bc593ba0\n",
      "1f078cde-5c41-6b87-8002-ae88a1704093\n",
      "1f078cde-5c20-6527-8001-850e059dac9f\n",
      "1f078cde-5c17-6b54-8000-8b150f2e8e50\n",
      "1f078cde-5c0f-6164-bfff-8a524383df91\n"
     ]
    }
   ],
   "source": [
    "checkpoints = list(memory.list(config={\"configurable\": {\"thread_id\": \"thread-a\"}}))\n",
    "for check_point in checkpoints:\n",
    "  print(check_point.config[\"configurable\"][\"checkpoint_id\"])"
   ]
  },
  {
   "cell_type": "code",
   "execution_count": 4,
   "id": "757683a6",
   "metadata": {},
   "outputs": [
    {
     "name": "stdout",
     "output_type": "stream",
     "text": [
      "History length = 0\n"
     ]
    }
   ],
   "source": [
    "checkpoint_id = checkpoints[-1].config[\"configurable\"][\"checkpoint_id\"]\n",
    "_ = graph.invoke(\n",
    "    [HumanMessage(content=\"test\")],\n",
    "    config={\"configurable\": {\"thread_id\": \"thread-a\", \"checkpoint_id\": checkpoint_id}})"
   ]
  },
  {
   "cell_type": "code",
   "execution_count": 5,
   "id": "c3cafa79",
   "metadata": {},
   "outputs": [
    {
     "name": "stdout",
     "output_type": "stream",
     "text": [
      "History length = 2\n"
     ]
    }
   ],
   "source": [
    "checkpoint_id = checkpoints[-3].config[\"configurable\"][\"checkpoint_id\"]\n",
    "_ = graph.invoke(\n",
    "    [HumanMessage(content=\"test\")],\n",
    "    config={\"configurable\": {\"thread_id\": \"thread-a\", \"checkpoint_id\": checkpoint_id}})"
   ]
  }
 ],
 "metadata": {
  "kernelspec": {
   "display_name": ".venv",
   "language": "python",
   "name": "python3"
  },
  "language_info": {
   "codemirror_mode": {
    "name": "ipython",
    "version": 3
   },
   "file_extension": ".py",
   "mimetype": "text/x-python",
   "name": "python",
   "nbconvert_exporter": "python",
   "pygments_lexer": "ipython3",
   "version": "3.13.0"
  }
 },
 "nbformat": 4,
 "nbformat_minor": 5
}
